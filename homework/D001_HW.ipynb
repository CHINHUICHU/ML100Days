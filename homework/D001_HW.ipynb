{
 "cells": [
  {
   "cell_type": "code",
   "execution_count": 1,
   "metadata": {},
   "outputs": [
    {
     "name": "stdout",
     "output_type": "stream",
     "text": [
      "[ 0  1  2  3  4  5  6  7  8  9 10 11 12 13 14 15 16 17 18 19 20] [ 0  2  4  6  8 10 12 14 16 18 20] [ 0  3  6  9 12 15 18]\n"
     ]
    }
   ],
   "source": [
    "import numpy as np\n",
    "#1.生成一個等差數列，首數為0，尾數為20，公差為1的數列。\n",
    "ans1 = np.arange(21)\n",
    "#2.呈上題，將以上數列取出偶數。\n",
    "ans2 = ans1[:21:2]  \n",
    "#3.呈1題，將數列取出3的倍數。\n",
    "ans3 = ans1[:21:3]\n"
   ]
  },
  {
   "cell_type": "code",
   "execution_count": null,
   "metadata": {},
   "outputs": [],
   "source": [
    "#4.請問下列兩種將 Array 轉換成 List 的方式有何不同？\n",
    "#print('list(a): ', list(a))\n",
    "#print('tolist(): ', a.tolist())\n",
    "# list(a)只能將第一層元素轉為list，a.tolist()才能將多層元素轉為list"
   ]
  },
  {
   "cell_type": "code",
   "execution_count": 3,
   "metadata": {},
   "outputs": [
    {
     "name": "stdout",
     "output_type": "stream",
     "text": [
      "[2 9 5 6 5 8]\n",
      "1\n",
      "(6,)\n",
      "6\n",
      "int64\n",
      "8\n",
      "6\n",
      "<class 'numpy.ndarray'>\n"
     ]
    }
   ],
   "source": [
    "#5. 請試著在程式中印出以下三個 NdArray 的屬性並且解釋結果？（屬性：ndim、shape、size、dtype、itemsize、length、type）\n",
    "\n",
    "a = np.random.randint(10, size=6) \n",
    "b = np.random.randint(10, size=(3,4)) \n",
    "c = np.random.randint(10, size=(2,3,2)) \n",
    "\n",
    "\n",
    "print(a.ndim) #a陣列只有一個軸\n",
    "print(a.shape) #a陣列的形狀為6X1\n",
    "print(a.size) #a陣列有6個元素\n",
    "print(a.dtype) #a陣列的資料型態\n",
    "print(a.itemsize) #a陣列每個元素的記憶體使用量\n",
    "print(len(a)) #a陣列的長度為6\n",
    "print(type(a)) #a陣列的類型\n",
    "\n",
    "\n"
   ]
  },
  {
   "cell_type": "code",
   "execution_count": 4,
   "metadata": {},
   "outputs": [
    {
     "name": "stdout",
     "output_type": "stream",
     "text": [
      "[[4 0 3 7]\n",
      " [7 8 6 0]\n",
      " [7 8 2 6]]\n",
      "2\n",
      "(3, 4)\n",
      "12\n",
      "int64\n",
      "8\n",
      "3\n",
      "<class 'numpy.ndarray'>\n"
     ]
    }
   ],
   "source": [
    "b = np.random.randint(10, size=(3,4)) \n",
    "\n",
    "print(b.ndim) #b陣列有兩個軸\n",
    "print(b.shape) #b陣列的形狀為3X4\n",
    "print(b.size) #b陣列有12個元素\n",
    "print(b.dtype) #b陣列的資料型態\n",
    "print(b.itemsize) #b陣列每個元素的記憶體使用量\n",
    "print(len(b)) #b陣列的長度為3\n",
    "print(type(b)) #b陣列的類型"
   ]
  },
  {
   "cell_type": "code",
   "execution_count": 6,
   "metadata": {
    "scrolled": true
   },
   "outputs": [
    {
     "name": "stdout",
     "output_type": "stream",
     "text": [
      "[[[0 4]\n",
      "  [5 1]\n",
      "  [5 1]]\n",
      "\n",
      " [[2 4]\n",
      "  [1 7]\n",
      "  [0 2]]]\n",
      "3\n",
      "(2, 3, 2)\n",
      "12\n",
      "int64\n",
      "8\n",
      "2\n",
      "<class 'numpy.ndarray'>\n"
     ]
    }
   ],
   "source": [
    "c = np.random.randint(10, size=(2,3,2)) \n",
    "\n",
    "print(c)\n",
    "print(c.ndim) #c陣列有3個軸\n",
    "print(c.shape) #c陣列的形狀為(2,3,2)\n",
    "print(c.size) #c陣列有12個元素\n",
    "print(c.dtype) #c陣列的資料型態\n",
    "print(c.itemsize) #c陣列每個元素的記憶體使用量\n",
    "print(len(c)) #c陣列的長度為2，長度只會看最外層的維度，所以是2個4X3的陣列\n",
    "print(type(c)) #c陣列的類型"
   ]
  },
  {
   "cell_type": "code",
   "execution_count": 11,
   "metadata": {},
   "outputs": [
    {
     "name": "stdout",
     "output_type": "stream",
     "text": [
      "[5, 1, 1, 6, 9, 9]\n",
      "[[5, 6, 8, 7], [9, 0, 3, 6], [1, 5, 4, 4]]\n",
      "[[3, 3], [2, 8], [8, 3], [2, 0], [4, 7], [8, 9]]\n"
     ]
    }
   ],
   "source": [
    "#6.如何利用 list(...) 實現 a.tolist() 的效果？試著用程式實作。\n",
    "\n",
    "a = np.random.randint(10, size=6) \n",
    "b = np.random.randint(10, size=(3,4)) \n",
    "c = np.random.randint(10, size=(2,3,2)) \n",
    "\n",
    "def tolist (a):\n",
    "    a_list = []\n",
    "    if a.ndim == 1:\n",
    "        a_list = list(a)\n",
    "    if a.ndim == 2:\n",
    "        for i in a:\n",
    "            a_list.append(list(i))\n",
    "    if a.ndim == 3:\n",
    "        for i in a:\n",
    "            for j in i:\n",
    "                a_list.append(list(j))\n",
    "    return a_list\n",
    "\n",
    "print(tolist(a))\n",
    "print(tolist(b))\n",
    "print(tolist(c))"
   ]
  },
  {
   "cell_type": "code",
   "execution_count": null,
   "metadata": {},
   "outputs": [],
   "source": []
  }
 ],
 "metadata": {
  "kernelspec": {
   "display_name": "Python 3",
   "language": "python",
   "name": "python3"
  },
  "language_info": {
   "codemirror_mode": {
    "name": "ipython",
    "version": 3
   },
   "file_extension": ".py",
   "mimetype": "text/x-python",
   "name": "python",
   "nbconvert_exporter": "python",
   "pygments_lexer": "ipython3",
   "version": "3.8.5"
  }
 },
 "nbformat": 4,
 "nbformat_minor": 4
}
