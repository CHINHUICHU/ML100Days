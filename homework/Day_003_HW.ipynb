#!/usr/bin/env python3
# -*- coding: utf-8 -*-
"""
Created on Tue Mar 16 11:08:33 2021

@author: hui
"""
# Day 3 Homework
"""
1.正常的談話的聲壓為 20000 微巴斯卡，請問多少分貝?
2.30 分貝的聲壓會是 50 分貝的幾倍?
"""
import numpy as np
ans1 = 20 * np.log10(20000 / 20)

V1 = np.power(10, 50 / 20) * 20
V2 = np.power(10, 30 / 20) * 20
ans2 = V1 / V2
