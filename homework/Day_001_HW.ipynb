#!/usr/bin/env python3
# -*- coding: utf-8 -*-
"""
Created on Mon Mar 15 16:19:45 2021

@author: hui
"""

#D01 NumPy 套件基本操作

import numpy as np
#1.生成一個等差數列，首數為0，尾數為20，公差為1的數列。
a = np.arange(21)
#2.呈上題，將以上數列取出偶數。
b = a[:21:2]    
#3.呈1題，將數列取出3的倍數。
c = a[:21:3]

