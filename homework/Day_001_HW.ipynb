#!/usr/bin/env python3
# -*- coding: utf-8 -*-
"""
Created on Mon Mar 15 16:19:45 2021

@author: hui
"""

import numpy as np



