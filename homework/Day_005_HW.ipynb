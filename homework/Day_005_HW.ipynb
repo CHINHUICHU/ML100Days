#!/usr/bin/env python3
# -*- coding: utf-8 -*-
"""
Created on Tue Mar 16 14:41:53 2021

@author: hui
"""

import numpy as np

english_score = np.array([55,89,76,65,48,70])
math_score = np.array([60,85,60,68,np.nan,60])
chinese_score = np.array([65,90,82,72,66,77])

#1. 請計算各科成績平均、最大值、最小值、標準差，其中數學缺一筆資料可忽略?
avg_eng = np.average(english_score)
avg_math = np.nanmean(math_score)
avg_chi = np.average(chinese_score)

max_eng = np.amax(english_score)
max_math = np.nanmax(math_score)
max_chi = np.amax(chinese_score)

min_eng = np.amin(english_score)
min_math = np.nanmin(math_score)
min_chi = np.amin(chinese_score)

std_eng = np.std(english_score)
std_math = np.nanstd(math_score)
std_chi = np.std(chinese_score)

#2. 第五位同學補考數學後成績為55，請計算補考後數學成績平均、最大值、最小值、標準差?
math_score[4] = 55
avg_math_2 = np.mean(math_score)
max_math_2 = np.amax(math_score)
min_math_2 = np.amin(math_score)
std_math_2 = np.std(math_score)

#3. 用補考後資料找出與國文成績相關係數最高的學科? #英文
cor1 = np.corrcoef(english_score, chinese_score)
cor2 = np.corrcoef(math_score, chinese_score)
