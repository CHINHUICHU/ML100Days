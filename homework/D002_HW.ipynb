{
 "cells": [
  {
   "cell_type": "code",
   "execution_count": 3,
   "metadata": {},
   "outputs": [
    {
     "name": "stdout",
     "output_type": "stream",
     "text": [
      "True\n",
      "True\n",
      "True\n"
     ]
    }
   ],
   "source": [
    "#1. [簡答題] 請問 type(...) 跟 a.dtype 這兩個語法有什麼不同？\n",
    "#print('type(a): ', type(a))\n",
    "#print('a.dtype: ', a.dtype)\n",
    "\n",
    "#type(a)是看a的型態，python資料型態\n",
    "# a.dtype 是看a陣列的資料型態，numpy資料型態，比python資料型態更細緻\n",
    "\n",
    "#2. 請撰寫一個判斷 a 的元素是否等於指定資料型態的函式，並且通過測試。\n",
    "\n",
    "import numpy as np\n",
    "\n",
    "def is_dtype(a, t):\n",
    "    if a.dtype == t:\n",
    "        return True\n",
    "    else:\n",
    "        False\n",
    "    \n",
    "a = np.random.randint(10, size=6) \n",
    "\n",
    "# 測試一\n",
    "print(is_dtype(a, 'int')) # True\n",
    "\n",
    "# 測試二\n",
    "print(is_dtype(a, np.int)) # True\n",
    "\n",
    "# 測試三\n",
    "print(is_dtype(a, np.dtype('int'))) # True"
   ]
  },
  {
   "cell_type": "code",
   "execution_count": 5,
   "metadata": {},
   "outputs": [],
   "source": [
    "#3. [簡答題] 承上題，請判斷下列三種寫法為何不正確？\n",
    "#def is_dtype(a, t):\n",
    "#    return a.dtype is t\n",
    "#is 的話就必須要跟 np.dtype 物件來相比\n",
    "\n",
    "#def is_dtype(a, t):\n",
    "#    return type(a) == np.dtype(t)\n",
    "# type是python型態，無法相比\n",
    "\n",
    "#def is_dtype(a, t):\n",
    "#    return type(a) is np.dtype(t)\n",
    "# type是python型態，無法相比"
   ]
  }
 ],
 "metadata": {
  "kernelspec": {
   "display_name": "Python 3",
   "language": "python",
   "name": "python3"
  },
  "language_info": {
   "codemirror_mode": {
    "name": "ipython",
    "version": 3
   },
   "file_extension": ".py",
   "mimetype": "text/x-python",
   "name": "python",
   "nbconvert_exporter": "python",
   "pygments_lexer": "ipython3",
   "version": "3.8.5"
  }
 },
 "nbformat": 4,
 "nbformat_minor": 4
}
