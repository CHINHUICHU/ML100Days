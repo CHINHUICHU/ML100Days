#!/usr/bin/env python3
# -*- coding: utf-8 -*-
"""
Created on Thu Mar 18 11:04:40 2021

@author: hui
"""

import numpy as np

array1 = np.array(range(30))
array2 = np.array([2,3,5])
array3 = np.array([[4,5,6],[1,2,3]])

np.savez("D006", array1, array2)

with open("D006.npz", "wb") as f:
    np.savez(f ,arr1 = array1, arr2 = array2, arr3 =array3)



