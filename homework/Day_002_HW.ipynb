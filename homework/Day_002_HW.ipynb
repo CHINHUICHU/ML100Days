#!/usr/bin/env python3
# -*- coding: utf-8 -*-
"""
Created on Tue Mar 16 09:59:00 2021

@author: hui
"""
"""
1.將下列清單(list1)，轉成維度為(5X6)的array，順序按列填充。(hint:order="F")
array1 = np.array(range(30))
2.呈上題的array，找出被6除餘1的數的索引
"""
import numpy as np
array1 = np.array(range(30))
array2 = array1.reshape((5,6), order="F")
ans = np.where(array2 % 6 == 1)



         

